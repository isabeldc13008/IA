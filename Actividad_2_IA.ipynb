{
  "nbformat": 4,
  "nbformat_minor": 0,
  "metadata": {
    "colab": {
      "provenance": []
    },
    "kernelspec": {
      "name": "python3",
      "display_name": "Python 3"
    },
    "language_info": {
      "name": "python"
    }
  },
  "cells": [
    {
      "cell_type": "code",
      "execution_count": 34,
      "metadata": {
        "colab": {
          "base_uri": "https://localhost:8080/"
        },
        "id": "TjCF6efVs20F",
        "outputId": "a86d7d6b-501f-4e18-d997-e43afb2f3d4c"
      },
      "outputs": [
        {
          "output_type": "stream",
          "name": "stdout",
          "text": [
            "Ingresa la estación de origen: Bello\n",
            "Ingresa la estación de destino: Hospital\n",
            "La distancia entre Bello y Hospital es de 7.487134145771767 km.\n",
            "La velocidad promedio es de: 80.\n",
            "Minutos estimados en llegar: 5.62.\n",
            "\n"
          ]
        }
      ],
      "source": [
        "import pandas as pd\n",
        "from math import radians, sin, cos, sqrt, atan2\n",
        "from datetime import datetime, timedelta\n",
        "\n",
        "# Definición de base de conocimiento para las reglas lógicas\n",
        "base_conocimiento = \"planeacion_gdb2.csv\"\n",
        "\n",
        "def read_stations_data(base_conociemiento):\n",
        "    stations_df = pd.read_csv(base_conociemiento)\n",
        "    return {row['NOMBRE']: (float(row['X']), float(row['Y'])) for _, row in stations_df.iterrows()}\n",
        "\n",
        "\n",
        "\n",
        "    tiempos_ida_vuelta = {\n",
        "    (\"Tricentenario\", \"Caribe\"): 10,\n",
        "    (\"Caribe\", \"Hospital\"): 15,\n",
        "    (\"Hospital\", \"Parque Berrío\"): 20,\n",
        "    (\"Parque Berrío\", \"San Antonio\"): 25,\n",
        "    (\"Hospital\", \"Bello\"): 35,\n",
        "    (\"Bello\", \"Hospital\"): 15,  # Agregar tiempo de vuelta para la combinación Bello-Hospital\n",
        "    (\"Niquía\", \"Tricentenario\"): 5,  # Agregar tiempo de ida para la combinación Niquía-Tricentenario\n",
        "    (\"Niquía\", \"Bello\"): 30  # Agregar tiempo de ida para la combinación Niquía-Bello\n",
        "}  # Diccionario para almacenar los tiempos de ida y vuelta\n",
        "\n",
        "def calcular_distancia(coord1, coord2):\n",
        "    R = 6371  # Radio de la Tierra en km\n",
        "    lat1, lon1, lat2, lon2 = map(radians, (*coord1, *coord2))\n",
        "\n",
        "    dlat = lat2 - lat1\n",
        "    dlon = lon2 - lon1\n",
        "    \n",
        "    a = sin(dlat/2)**2 + cos(lat1) * cos(lat2) * sin(dlon/2)**2\n",
        "    c = 2 * atan2(sqrt(a), sqrt(1-a))\n",
        "\n",
        "    distancia = R * c\n",
        "\n",
        "    return distancia\n",
        "\n",
        "def calcular_hora_llegada(distancia, velocidad_promedio, tiempo_ida_vuelta):\n",
        "    hora_actual = datetime.now()\n",
        "    tiempo_estimado_minutos = (distancia / velocidad_promedio) * 60  # Convertir a minutos\n",
        "    tiempo_estimado = timedelta(minutes=tiempo_estimado_minutos + tiempo_ida_vuelta)  # Utilizar timedelta en minutos\n",
        "    hora_llegada = hora_actual + tiempo_estimado\n",
        "    return tiempo_estimado_minutos, hora_llegada\n",
        "\n",
        "def calcular_velocidad_promedio(distancia, tiempo_total):\n",
        "    tiempo_ida_vuelta = tiempo_total / 2  # Dividir el tiempo total entre ida y vuelta\n",
        "    velocidad_promedio = distancia / (tiempo_ida_vuelta / 60)  # Convertir minutos a horas\n",
        "    return velocidad_promedio\n",
        "\n",
        "def obtener_combinaciones_tiempos():\n",
        "    combinaciones_tiempos = {}\n",
        "    for origen, destino in tiempos_ida_vuelta.keys():\n",
        "        tiempo_ida_vuelta = tiempos_ida_vuelta[(origen, destino)]\n",
        "        combinaciones_tiempos[(origen, destino)] = tiempo_ida_vuelta\n",
        "        combinaciones_tiempos[(destino, origen)] = tiempo_ida_vuelta\n",
        "    return combinaciones_tiempos\n",
        "\n",
        "\n",
        "def ir_a_estacion(estaciones_data, estacion_actual, estacion_destino, velocidad_promedio_km_h):\n",
        "    if estacion_actual not in estaciones_data or estacion_destino not in estaciones_data:\n",
        "        return \"Estación de origen o destino no válida.\"\n",
        "    distancia_km = calcular_distancia(estaciones_data[estacion_actual], estaciones_data[estacion_destino])\n",
        "\n",
        "    #if isinstance(distancia_km, str):\n",
        "        #return distancia_km\n",
        "\n",
        "    combinaciones_tiempos = obtener_combinaciones_tiempos()\n",
        "\n",
        "    tiempo_ida_vuelta = 0\n",
        "    tiempo_estimado_minutos = 0  # Asignar un valor predeterminado\n",
        "    if (estacion_actual, estacion_destino) in combinaciones_tiempos:\n",
        "        tiempo_ida_vuelta = combinaciones_tiempos[(estacion_actual, estacion_destino)]\n",
        "        velocidad_promedio_km_h = 80\n",
        "        tiempo_estimado_minutos, hora_llegada = calcular_hora_llegada(distancia_km, velocidad_promedio_km_h, tiempo_ida_vuelta)\n",
        "\n",
        "\n",
        "    return f'La distancia entre {estacion_actual} y {estacion_destino} es de {distancia_km} km.\\n' \\\n",
        "           f'La velocidad promedio es de: {velocidad_promedio_km_h}.\\n' \\\n",
        "           f'Minutos estimados en llegar: {round(tiempo_estimado_minutos, 2)}.\\n'\n",
        "\n",
        "\n",
        "\n",
        "\n",
        "# Leer datos de las estaciones desde el archivo CSV\n",
        "estaciones_data = read_stations_data('planeacion_gdb2.csv')\n",
        "\n",
        "# Ejemplo de uso\n",
        "estacion_origen = input(\"Ingresa la estación de origen: \")\n",
        "estacion_destino = input(\"Ingresa la estación de destino: \")\n",
        "velocidad_promedio_km_h = 80\n",
        "\n",
        "resultado = ir_a_estacion(estaciones_data, estacion_origen, estacion_destino, velocidad_promedio_km_h)\n",
        "print(resultado)\n"
      ]
    },
    {
      "cell_type": "code",
      "source": [],
      "metadata": {
        "id": "IuH0KKaC_yC5"
      },
      "execution_count": null,
      "outputs": []
    }
  ]
}